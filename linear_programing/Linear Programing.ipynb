{
 "cells": [
  {
   "cell_type": "code",
   "execution_count": 1,
   "id": "f290fb59",
   "metadata": {},
   "outputs": [],
   "source": [
    "from scipy.optimize import linprog"
   ]
  },
  {
   "cell_type": "code",
   "execution_count": 2,
   "id": "eba415c0",
   "metadata": {},
   "outputs": [],
   "source": [
    "obj = [-2,-1]\n",
    "lhs = [[2,1],[-5,4],[-1,4]]\n",
    "rhs = [22,15,12]\n",
    "lhs_eq = [[-1,4 ]]\n",
    "rhs_eq  = [16]"
   ]
  },
  {
   "cell_type": "code",
   "execution_count": 4,
   "id": "566d7d64",
   "metadata": {},
   "outputs": [],
   "source": [
    "bnd = [(0, float('inf')),(0, float('inf'))]"
   ]
  },
  {
   "cell_type": "code",
   "execution_count": null,
   "id": "c9d2e70e",
   "metadata": {},
   "outputs": [],
   "source": [
    "optimisation = linprog(c = obj, A_ub=lhs, b_ub = rhs, A_eq=lhs_eq, b_eq = rhs_eq, bounds = bnd, method='simplex' )"
   ]
  }
 ],
 "metadata": {
  "kernelspec": {
   "display_name": "Python 3 (ipykernel)",
   "language": "python",
   "name": "python3"
  },
  "language_info": {
   "codemirror_mode": {
    "name": "ipython",
    "version": 3
   },
   "file_extension": ".py",
   "mimetype": "text/x-python",
   "name": "python",
   "nbconvert_exporter": "python",
   "pygments_lexer": "ipython3",
   "version": "3.10.6"
  }
 },
 "nbformat": 4,
 "nbformat_minor": 5
}
