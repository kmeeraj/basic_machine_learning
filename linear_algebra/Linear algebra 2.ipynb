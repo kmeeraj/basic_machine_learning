{
 "cells": [
  {
   "cell_type": "code",
   "execution_count": 1,
   "id": "3e997ee8",
   "metadata": {},
   "outputs": [],
   "source": [
    "import numpy as np\n",
    "A = np.array([[1,2,1],[3,8,1],[0,4,1]])"
   ]
  },
  {
   "cell_type": "code",
   "execution_count": 2,
   "id": "6eebffc8",
   "metadata": {},
   "outputs": [
    {
     "name": "stdout",
     "output_type": "stream",
     "text": [
      "[[1 2 1]\n",
      " [3 8 1]\n",
      " [0 4 1]]\n"
     ]
    }
   ],
   "source": [
    "print (A)"
   ]
  },
  {
   "cell_type": "code",
   "execution_count": 17,
   "id": "89c7da12",
   "metadata": {},
   "outputs": [
    {
     "name": "stdout",
     "output_type": "stream",
     "text": [
      "[[ 1  0  0]\n",
      " [-3  1  0]\n",
      " [ 0  0  1]]\n"
     ]
    }
   ],
   "source": [
    "B = np.array([[1,0,0],[-3,1,0],[0,0,1]])\n",
    "print (B)"
   ]
  },
  {
   "cell_type": "code",
   "execution_count": 18,
   "id": "31c40a40",
   "metadata": {},
   "outputs": [],
   "source": [
    "C = A*B"
   ]
  },
  {
   "cell_type": "code",
   "execution_count": 19,
   "id": "2c589029",
   "metadata": {},
   "outputs": [
    {
     "name": "stdout",
     "output_type": "stream",
     "text": [
      "[[ 1  0  0]\n",
      " [-9  8  0]\n",
      " [ 0  0  1]]\n"
     ]
    }
   ],
   "source": [
    "print (C)"
   ]
  },
  {
   "cell_type": "code",
   "execution_count": 20,
   "id": "70acef4d",
   "metadata": {},
   "outputs": [],
   "source": [
    "D = np.matmul(B,A)"
   ]
  },
  {
   "cell_type": "code",
   "execution_count": 21,
   "id": "ca94cc8f",
   "metadata": {},
   "outputs": [
    {
     "name": "stdout",
     "output_type": "stream",
     "text": [
      "[[ 1  2  1]\n",
      " [ 0  2 -2]\n",
      " [ 0  4  1]]\n"
     ]
    }
   ],
   "source": [
    "print (D)"
   ]
  },
  {
   "cell_type": "code",
   "execution_count": 24,
   "id": "7ca4462c",
   "metadata": {},
   "outputs": [
    {
     "name": "stdout",
     "output_type": "stream",
     "text": [
      "[[ 1  0  0]\n",
      " [ 0  1  0]\n",
      " [ 0 -2  1]]\n"
     ]
    }
   ],
   "source": [
    "E = np.array([[1,0,0],[0,1,0],[0,-2,1]])\n",
    "print (E)"
   ]
  },
  {
   "cell_type": "code",
   "execution_count": 25,
   "id": "0b4829ee",
   "metadata": {},
   "outputs": [
    {
     "name": "stdout",
     "output_type": "stream",
     "text": [
      "[[ 1  2  1]\n",
      " [ 0  2 -2]\n",
      " [ 0  0  5]]\n"
     ]
    }
   ],
   "source": [
    "F = np.matmul(E,D)\n",
    "print(F)"
   ]
  },
  {
   "cell_type": "code",
   "execution_count": 26,
   "id": "e819698b",
   "metadata": {},
   "outputs": [
    {
     "name": "stdout",
     "output_type": "stream",
     "text": [
      "[[1 2]\n",
      " [3 4]]\n"
     ]
    }
   ],
   "source": [
    "G = np.array([[1,2],[3,4]])\n",
    "print (G)"
   ]
  },
  {
   "cell_type": "code",
   "execution_count": 29,
   "id": "8a07ed73",
   "metadata": {},
   "outputs": [
    {
     "name": "stdout",
     "output_type": "stream",
     "text": [
      "[[0 1]\n",
      " [1 0]]\n"
     ]
    }
   ],
   "source": [
    "H = np.array([[0,1],[1,0]])\n",
    "print (H)"
   ]
  },
  {
   "cell_type": "code",
   "execution_count": 30,
   "id": "3a0d4bcf",
   "metadata": {},
   "outputs": [
    {
     "name": "stdout",
     "output_type": "stream",
     "text": [
      "[[3 4]\n",
      " [1 2]]\n"
     ]
    }
   ],
   "source": [
    "I = np.matmul(H,G)\n",
    "print (I)"
   ]
  },
  {
   "cell_type": "code",
   "execution_count": 32,
   "id": "f4495b15",
   "metadata": {},
   "outputs": [
    {
     "name": "stdout",
     "output_type": "stream",
     "text": [
      "[[2 1]\n",
      " [4 3]]\n"
     ]
    }
   ],
   "source": [
    "J = np.matmul(G,H)\n",
    "print (J)"
   ]
  },
  {
   "cell_type": "code",
   "execution_count": null,
   "id": "1b95b965",
   "metadata": {},
   "outputs": [],
   "source": []
  }
 ],
 "metadata": {
  "kernelspec": {
   "display_name": "Python 3 (ipykernel)",
   "language": "python",
   "name": "python3"
  },
  "language_info": {
   "codemirror_mode": {
    "name": "ipython",
    "version": 3
   },
   "file_extension": ".py",
   "mimetype": "text/x-python",
   "name": "python",
   "nbconvert_exporter": "python",
   "pygments_lexer": "ipython3",
   "version": "3.8.12"
  }
 },
 "nbformat": 4,
 "nbformat_minor": 5
}
