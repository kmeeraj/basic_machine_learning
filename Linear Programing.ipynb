{
 "cells": [
  {
   "cell_type": "code",
   "execution_count": 1,
   "id": "f290fb59",
   "metadata": {},
   "outputs": [],
   "source": [
    "from scipy.optimize import linprog"
   ]
  },
  {
   "cell_type": "code",
   "execution_count": 2,
   "id": "eba415c0",
   "metadata": {},
   "outputs": [],
   "source": [
    "obj = [-2,-1]\n",
    "lhs = [[2,1],[-5,4],[-1,4]]\n",
    "rhs = [22,15,12]\n",
    "lhs_eq = [[-1,4 ]]\n",
    "rhs_eq  = [16]"
   ]
  },
  {
   "cell_type": "code",
   "execution_count": 4,
   "id": "2e626ab4",
   "metadata": {},
   "outputs": [],
   "source": [
    "bnd = [(0, float('inf')),(0, float('inf'))]"
   ]
  },
  {
   "cell_type": "code",
   "execution_count": 5,
   "id": "01419a9d",
   "metadata": {},
   "outputs": [
    {
     "name": "stderr",
     "output_type": "stream",
     "text": [
      "/var/folders/lr/6rg295zn00z37t4hkccb_rcm0000gn/T/ipykernel_18039/583810626.py:1: DeprecationWarning: `method='simplex'` is deprecated and will be removed in SciPy 1.11.0. Please use one of the HiGHS solvers (e.g. `method='highs'`) in new code.\n",
      "  optimisation = linprog(c = obj, A_ub=lhs, b_ub = rhs, A_eq=lhs_eq, b_eq = rhs_eq, bounds = bnd, method='simplex' )\n"
     ]
    },
    {
     "data": {
      "text/plain": [
       "     con: array([4.])\n",
       "     fun: -3.0\n",
       " message: \"Phase 1 of the simplex method failed to find a feasible solution. The pseudo-objective function evaluates to 4.0e+00 which exceeds the required tolerance of 1e-09 for a solution to be considered 'close enough' to zero to be a basic solution. Consider increasing the tolerance to be greater than 4.0e+00. If this tolerance is unacceptably  large the problem may be infeasible.\"\n",
       "     nit: 3\n",
       "   slack: array([19.,  3.,  0.])\n",
       "  status: 2\n",
       " success: False\n",
       "       x: array([0., 3.])"
      ]
     },
     "execution_count": 5,
     "metadata": {},
     "output_type": "execute_result"
    }
   ],
   "source": [
    "optimisation = linprog(c = obj, A_ub=lhs, b_ub = rhs, A_eq=lhs_eq, b_eq = rhs_eq, bounds = bnd, method='simplex' )\n",
    "optimisation"
   ]
  },
  {
   "cell_type": "code",
   "execution_count": null,
   "id": "d6630b8a",
   "metadata": {},
   "outputs": [],
   "source": []
  }
 ],
 "metadata": {
  "kernelspec": {
   "display_name": "Python 3 (ipykernel)",
   "language": "python",
   "name": "python3"
  },
  "language_info": {
   "codemirror_mode": {
    "name": "ipython",
    "version": 3
   },
   "file_extension": ".py",
   "mimetype": "text/x-python",
   "name": "python",
   "nbconvert_exporter": "python",
   "pygments_lexer": "ipython3",
   "version": "3.10.6"
  }
 },
 "nbformat": 4,
 "nbformat_minor": 5
}
