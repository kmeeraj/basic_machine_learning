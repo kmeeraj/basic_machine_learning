{
 "cells": [
  {
   "cell_type": "code",
   "execution_count": 5,
   "id": "61791801",
   "metadata": {},
   "outputs": [],
   "source": [
    "from PIL import Image\n",
    "from numpy import asarray"
   ]
  },
  {
   "cell_type": "code",
   "execution_count": 6,
   "id": "afa2bc95",
   "metadata": {},
   "outputs": [],
   "source": [
    "image = Image.open('Sample.png')"
   ]
  },
  {
   "cell_type": "code",
   "execution_count": 8,
   "id": "148ed97f",
   "metadata": {},
   "outputs": [
    {
     "name": "stdout",
     "output_type": "stream",
     "text": [
      "<class 'numpy.ndarray'>\n",
      "(200, 400, 3)\n"
     ]
    }
   ],
   "source": [
    "numpydata = asarray(image)\n",
    " \n",
    "# <class 'numpy.ndarray'>\n",
    "print(type(numpydata))\n",
    " \n",
    "#  shape\n",
    "print(numpydata.shape)"
   ]
  },
  {
   "cell_type": "code",
   "execution_count": 9,
   "id": "53a6eb46",
   "metadata": {},
   "outputs": [
    {
     "data": {
      "text/plain": [
       "array([[[111,  60,   0],\n",
       "        [116,  65,   0],\n",
       "        [122,  69,   0],\n",
       "        ...,\n",
       "        [ 97,  47,   0],\n",
       "        [ 99,  47,   0],\n",
       "        [100,  49,   0]],\n",
       "\n",
       "       [[111,  61,   0],\n",
       "        [118,  65,   0],\n",
       "        [122,  69,   0],\n",
       "        ...,\n",
       "        [ 97,  47,   0],\n",
       "        [ 99,  48,   0],\n",
       "        [100,  49,   0]],\n",
       "\n",
       "       [[118,  65,   0],\n",
       "        [122,  69,   0],\n",
       "        [126,  73,   3],\n",
       "        ...,\n",
       "        [ 98,  48,   0],\n",
       "        [100,  49,   0],\n",
       "        [100,  49,   0]],\n",
       "\n",
       "       ...,\n",
       "\n",
       "       [[ 96,  44,   7],\n",
       "        [ 95,  43,   6],\n",
       "        [ 93,  41,   4],\n",
       "        ...,\n",
       "        [225,  80,   3],\n",
       "        [228,  80,   0],\n",
       "        [229,  78,   0]],\n",
       "\n",
       "       [[ 93,  40,   6],\n",
       "        [ 90,  37,   5],\n",
       "        [ 85,  32,   0],\n",
       "        ...,\n",
       "        [226,  81,   4],\n",
       "        [231,  80,   1],\n",
       "        [232,  79,   1]],\n",
       "\n",
       "       [[ 89,  36,   4],\n",
       "        [ 84,  31,   0],\n",
       "        [ 79,  26,   0],\n",
       "        ...,\n",
       "        [228,  81,   4],\n",
       "        [232,  81,   4],\n",
       "        [233,  80,   2]]], dtype=uint8)"
      ]
     },
     "execution_count": 9,
     "metadata": {},
     "output_type": "execute_result"
    }
   ],
   "source": [
    "numpydata"
   ]
  },
  {
   "cell_type": "code",
   "execution_count": null,
   "id": "ce47abf2",
   "metadata": {},
   "outputs": [],
   "source": []
  }
 ],
 "metadata": {
  "kernelspec": {
   "display_name": "Python 3 (ipykernel)",
   "language": "python",
   "name": "python3"
  },
  "language_info": {
   "codemirror_mode": {
    "name": "ipython",
    "version": 3
   },
   "file_extension": ".py",
   "mimetype": "text/x-python",
   "name": "python",
   "nbconvert_exporter": "python",
   "pygments_lexer": "ipython3",
   "version": "3.10.6"
  }
 },
 "nbformat": 4,
 "nbformat_minor": 5
}
